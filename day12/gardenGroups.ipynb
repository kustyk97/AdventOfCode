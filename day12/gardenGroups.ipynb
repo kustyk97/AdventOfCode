{
 "cells": [
  {
   "cell_type": "code",
   "execution_count": 304,
   "metadata": {},
   "outputs": [],
   "source": [
    "import numpy as np\n",
    "from matplotlib import pyplot as plt"
   ]
  },
  {
   "cell_type": "code",
   "execution_count": 319,
   "metadata": {},
   "outputs": [],
   "source": [
    "path_to_file = \"input.txt\""
   ]
  },
  {
   "cell_type": "code",
   "execution_count": 320,
   "metadata": {},
   "outputs": [],
   "source": [
    "with open(path_to_file, \"r\") as file:\n",
    "    lines = file.readlines()\n",
    "\n",
    "filtred_lines = []\n",
    "for line in lines:\n",
    "    line = line.replace(\"\\n\", \"\")\n",
    "    filtred_lines.append(line)\n",
    "    \n",
    "input_data = np.array([list(map(str, line)) for line in filtred_lines])"
   ]
  },
  {
   "cell_type": "code",
   "execution_count": 307,
   "metadata": {},
   "outputs": [],
   "source": [
    "data = input_data.copy()"
   ]
  },
  {
   "cell_type": "code",
   "execution_count": 308,
   "metadata": {},
   "outputs": [
    {
     "data": {
      "text/plain": [
       "array([['A', 'A', 'A', 'A'],\n",
       "       ['B', 'B', 'C', 'D'],\n",
       "       ['B', 'B', 'C', 'C'],\n",
       "       ['E', 'E', 'E', 'C']], dtype='<U1')"
      ]
     },
     "execution_count": 308,
     "metadata": {},
     "output_type": "execute_result"
    }
   ],
   "source": [
    "data"
   ]
  },
  {
   "cell_type": "code",
   "execution_count": 309,
   "metadata": {},
   "outputs": [
    {
     "name": "stdout",
     "output_type": "stream",
     "text": [
      "add value 0 to dictionary\n",
      "add value 1 to dictionary\n",
      "add value 2 to dictionary\n",
      "add value 3 to dictionary\n",
      "add value 4 to dictionary\n"
     ]
    }
   ],
   "source": [
    "values = {}\n",
    "number = 0\n",
    "for i in range(data.shape[0]):  # Loop over rows\n",
    "    for j in range(data.shape[1]):  # Loop over columns\n",
    "        cell = data[i, j]  \n",
    "        \n",
    "        if cell not in values.keys():\n",
    "            print(f\"add value {number} to dictionary\")\n",
    "            values[cell] = number\n",
    "            number = number + 1\n",
    "        data[i, j] = values[cell]"
   ]
  },
  {
   "cell_type": "code",
   "execution_count": 310,
   "metadata": {},
   "outputs": [],
   "source": [
    "data = data.astype(int)"
   ]
  },
  {
   "cell_type": "code",
   "execution_count": 311,
   "metadata": {},
   "outputs": [
    {
     "name": "stdout",
     "output_type": "stream",
     "text": [
      "New number: 2\n",
      "New number: 3\n",
      "New number: 4\n",
      "New number: 5\n",
      "New number: 6\n"
     ]
    }
   ],
   "source": [
    "mask = np.zeros(shape=data.shape, dtype=bool)\n",
    "segmented = np.zeros(shape=data.shape, dtype=int)\n",
    "number = 1\n",
    "\n",
    "\n",
    "def is_coord_inside(map_size: list, coord: list) -> bool:\n",
    "    if coord[0] < 0 or coord[1] < 0 or coord[0] >= map_size[0] or coord[1] >= map_size[1]:\n",
    "        return False\n",
    "    return True\n",
    "def find_rest_part_of_object(coord: list):\n",
    "    global data\n",
    "    if is_coord_inside(map_size=data.shape, coord=coord) is False:\n",
    "        return\n",
    "    global mask\n",
    "    if mask[coord[0], coord[1]] == True:\n",
    "        return\n",
    "    global cell_value\n",
    "    if data[coord[0], coord[1]] == cell_value:\n",
    "        # print(f\"{coord}\")\n",
    "        global number\n",
    "        # print(f\"New value {number}\")\n",
    "        global segmented\n",
    "        segmented[coord[0], coord[1]] = number\n",
    "        mask[coord[0], coord[1]] = True\n",
    "        # plt.imshow(segmented)\n",
    "        # plt.show()\n",
    "        check_cross_mask(coord)\n",
    "    return \n",
    "\n",
    "def check_cross_mask(coord: list):\n",
    "\n",
    "    find_rest_part_of_object([coord[0] - 1, coord[1]])\n",
    "    find_rest_part_of_object([coord[0] + 1, coord[1]])\n",
    "    find_rest_part_of_object([coord[0], coord[1] - 1])\n",
    "    find_rest_part_of_object([coord[0], coord[1] + 1])\n",
    "    return\n",
    "\n",
    "for i in range(data.shape[0]):  # Loop over rows\n",
    "    for j in range(data.shape[1]):  # Loop over columns\n",
    "\n",
    "        if mask[i,j] == False:\n",
    "                \n",
    "            # print(f\"Coords: {i}, {j}\" )\n",
    "            cell_value = data[i,j]\n",
    "            # print(f\"Cell value: {cell_value}\")\n",
    "            segmented[i,j] = number\n",
    "            check_cross_mask([i,j])\n",
    "            number = number + 1\n",
    "            print(f\"New number: {number}\")\n",
    "        # else:\n",
    "            # print(\"Repeated value\")        "
   ]
  },
  {
   "cell_type": "code",
   "execution_count": 312,
   "metadata": {},
   "outputs": [
    {
     "data": {
      "text/plain": [
       "6"
      ]
     },
     "execution_count": 312,
     "metadata": {},
     "output_type": "execute_result"
    }
   ],
   "source": [
    "number"
   ]
  },
  {
   "cell_type": "code",
   "execution_count": 313,
   "metadata": {},
   "outputs": [
    {
     "name": "stdout",
     "output_type": "stream",
     "text": [
      "[1 2 3 4 5]\n"
     ]
    },
    {
     "data": {
      "text/plain": [
       "<matplotlib.image.AxesImage at 0x75f9182e00e0>"
      ]
     },
     "execution_count": 313,
     "metadata": {},
     "output_type": "execute_result"
    },
    {
     "data": {
      "image/png": "[encoded data removed]",
      "text/plain": [
       "<Figure size 1000x1000 with 1 Axes>"
      ]
     },
     "metadata": {},
     "output_type": "display_data"
    }
   ],
   "source": [
    "print(np.unique(segmented))\n",
    "plt.figure(figsize=(10,10))\n",
    "plt.imshow(segmented)"
   ]
  },
  {
   "cell_type": "code",
   "execution_count": 314,
   "metadata": {},
   "outputs": [],
   "source": [
    "\n",
    "def check_neibour(clip: np.array, coord: list) -> int:\n",
    "    if is_coord_inside(clip.shape, coord) is False:\n",
    "        return 1\n",
    "    else:\n",
    "        try:\n",
    "            \n",
    "            if clip[coord[0], coord[1]] == False:\n",
    "                # print(\"Diffrent\")\n",
    "                return 1\n",
    "            return 0\n",
    "        except:\n",
    "            return 1\n",
    "    \n",
    "    \n",
    "def get_permiter(segmented: np.array, number: int) -> int:\n",
    "    mask = segmented == number\n",
    "    perimeter = 0\n",
    "    for i in range(mask.shape[0]):  # Loop over rows\n",
    "        for j in range(mask.shape[1]):  # Loop over columns\n",
    "            if mask[i,j] == True:\n",
    "                perimeter += check_neibour(mask, [i-1,j])\n",
    "                perimeter += check_neibour(mask, [i+1,j])\n",
    "                perimeter += check_neibour(mask, [i,j-1])\n",
    "                perimeter += check_neibour(mask, [i,j+1])\n",
    "                # print(perimeter)\n",
    "    return perimeter"
   ]
  },
  {
   "cell_type": "code",
   "execution_count": 315,
   "metadata": {},
   "outputs": [
    {
     "name": "stdout",
     "output_type": "stream",
     "text": [
      "1 Cost: 4*10 = 40\n",
      "2 Cost: 4*8 = 32\n",
      "3 Cost: 4*10 = 40\n",
      "4 Cost: 1*4 = 4\n",
      "5 Cost: 3*8 = 24\n",
      "Total cost: 140\n"
     ]
    }
   ],
   "source": [
    "total_cost= 0\n",
    "for number in np.unique(segmented):\n",
    "    area = (segmented == number).sum()\n",
    "    perimeter = get_permiter(segmented, number)\n",
    "    cost = area*perimeter\n",
    "    print(f\"{number} Cost: {area}*{perimeter} = {cost}\")\n",
    "    total_cost += cost\n",
    "\n",
    "print(f\"Total cost: {total_cost}\")\n"
   ]
  },
  {
   "cell_type": "code",
   "execution_count": 316,
   "metadata": {},
   "outputs": [
    {
     "data": {
      "text/plain": [
       "140"
      ]
     },
     "execution_count": 316,
     "metadata": {},
     "output_type": "execute_result"
    }
   ],
   "source": [
    "total_cost"
   ]
  },
  {
   "cell_type": "code",
   "execution_count": 317,
   "metadata": {},
   "outputs": [
    {
     "name": "stdout",
     "output_type": "stream",
     "text": [
      "4\n"
     ]
    },
    {
     "data": {
      "text/plain": [
       "<matplotlib.image.AxesImage at 0x75f90d8f6000>"
      ]
     },
     "execution_count": 317,
     "metadata": {},
     "output_type": "execute_result"
    },
    {
     "data": {
      "image/png": "[encoded data removed]",
      "text/plain": [
       "<Figure size 640x480 with 1 Axes>"
      ]
     },
     "metadata": {},
     "output_type": "display_data"
    }
   ],
   "source": [
    "print((segmented==1).sum())\n",
    "plt.imshow(segmented==1)"
   ]
  },
  {
   "cell_type": "code",
   "execution_count": 321,
   "metadata": {},
   "outputs": [
    {
     "name": "stdout",
     "output_type": "stream",
     "text": [
      "1451030\n"
     ]
    }
   ],
   "source": [
    "def calculate_region_properties(grid):\n",
    "    rows = len(grid)\n",
    "    cols = len(grid[0]) if rows > 0 else 0\n",
    "    visited = [[False] * cols for _ in range(rows)]\n",
    "    \n",
    "    def dfs(r, c, plant_type):\n",
    "        stack = [(r, c)]\n",
    "        area = 0\n",
    "        perimeter = 0\n",
    "        \n",
    "        while stack:\n",
    "            x, y = stack.pop()\n",
    "            if visited[x][y]:\n",
    "                continue\n",
    "            \n",
    "            visited[x][y] = True\n",
    "            area += 1\n",
    "            \n",
    "            # Check surrounding plots\n",
    "            for dx, dy in [(-1, 0), (1, 0), (0, -1), (0, 1)]:\n",
    "                nx, ny = x + dx, y + dy\n",
    "                \n",
    "                if 0 <= nx < rows and 0 <= ny < cols:\n",
    "                    if grid[nx][ny] == plant_type:\n",
    "                        stack.append((nx, ny))\n",
    "                    else:\n",
    "                        perimeter += 1\n",
    "                else:\n",
    "                    perimeter += 1\n",
    "        \n",
    "        return area, perimeter\n",
    "\n",
    "    total_price = 0\n",
    "    \n",
    "    for r in range(rows):\n",
    "        for c in range(cols):\n",
    "            if not visited[r][c]:\n",
    "                plant_type = grid[r][c]\n",
    "                area, perimeter = dfs(r, c, plant_type)\n",
    "                total_price += area * perimeter\n",
    "\n",
    "    return total_price\n",
    "\n",
    "garden_map = filtred_lines\n",
    "\n",
    "\n",
    "print(calculate_region_properties(garden_map))\n"
   ]
  },
  {
   "cell_type": "code",
   "execution_count": null,
   "metadata": {},
   "outputs": [],
   "source": []
  }
 ],
 "metadata": {
  "kernelspec": {
   "display_name": "main",
   "language": "python",
   "name": "python3"
  },
  "language_info": {
   "codemirror_mode": {
    "name": "ipython",
    "version": 3
   },
   "file_extension": ".py",
   "mimetype": "text/x-python",
   "name": "python",
   "nbconvert_exporter": "python",
   "pygments_lexer": "ipython3",
   "version": "3.12.8"
  }
 },
 "nbformat": 4,
 "nbformat_minor": 2
}
