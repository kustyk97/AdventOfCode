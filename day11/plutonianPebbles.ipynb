{
 "cells": [
  {
   "cell_type": "code",
   "execution_count": 7,
   "metadata": {},
   "outputs": [],
   "source": [
    "import numpy as np"
   ]
  },
  {
   "cell_type": "code",
   "execution_count": 8,
   "metadata": {},
   "outputs": [],
   "source": [
    "path_to_file = \"input.txt\""
   ]
  },
  {
   "cell_type": "code",
   "execution_count": 9,
   "metadata": {},
   "outputs": [
    {
     "name": "stdout",
     "output_type": "stream",
     "text": [
      "['554735' '45401' '8434' '0' '188' '7487525' '77' '7']\n"
     ]
    }
   ],
   "source": [
    "with open(path_to_file, \"r\") as file:\n",
    "    data = file.readline()\n",
    "data = data.split(\" \")\n",
    "data = np.array(data)\n",
    "print(data)"
   ]
  },
  {
   "cell_type": "code",
   "execution_count": 10,
   "metadata": {},
   "outputs": [
    {
     "name": "stdout",
     "output_type": "stream",
     "text": [
      "After 1 blinks total elements: 11\n",
      "After 2 blinks total elements: 15\n",
      "After 3 blinks total elements: 20\n",
      "After 4 blinks total elements: 36\n",
      "After 5 blinks total elements: 54\n",
      "After 6 blinks total elements: 76\n",
      "After 7 blinks total elements: 110\n",
      "After 8 blinks total elements: 170\n",
      "After 9 blinks total elements: 276\n",
      "After 10 blinks total elements: 416\n",
      "After 11 blinks total elements: 599\n",
      "After 12 blinks total elements: 905\n",
      "After 13 blinks total elements: 1375\n",
      "After 14 blinks total elements: 2091\n",
      "After 15 blinks total elements: 3252\n",
      "After 16 blinks total elements: 4833\n",
      "After 17 blinks total elements: 7326\n",
      "After 18 blinks total elements: 11188\n",
      "After 19 blinks total elements: 16916\n",
      "After 20 blinks total elements: 26109\n",
      "After 21 blinks total elements: 39066\n",
      "After 22 blinks total elements: 59394\n",
      "After 23 blinks total elements: 90802\n",
      "After 24 blinks total elements: 136683\n",
      "After 25 blinks total elements: 209412\n"
     ]
    }
   ],
   "source": [
    "def blinkOne(element: str) -> list:\n",
    "    value = int(element)\n",
    "    if len(element) % 2 == 0:\n",
    "        part1 = element[:len(element)//2]\n",
    "        part2 = str(int(element[len(element)//2:]))\n",
    "        return [part1, part2]\n",
    "    elif value == 0:\n",
    "        return [\"1\"]\n",
    "    else:\n",
    "        value = value*2024\n",
    "        return [str(value)]\n",
    "\n",
    "iter = 25\n",
    "for i in range(iter):\n",
    "    results = []\n",
    "    for element in data:\n",
    "        results.extend(blinkOne(element))\n",
    "    # result = [blinkOne(element) for element in data]\n",
    "    # for element in result:\n",
    "    #     results = np.append(results, element)\n",
    "\n",
    "    data = results\n",
    "    print(f\"After {i+1} blinks total elements: {len(data)}\")\n"
   ]
  },
  {
   "cell_type": "code",
   "execution_count": null,
   "metadata": {},
   "outputs": [],
   "source": []
  }
 ],
 "metadata": {
  "kernelspec": {
   "display_name": "main",
   "language": "python",
   "name": "python3"
  },
  "language_info": {
   "codemirror_mode": {
    "name": "ipython",
    "version": 3
   },
   "file_extension": ".py",
   "mimetype": "text/x-python",
   "name": "python",
   "nbconvert_exporter": "python",
   "pygments_lexer": "ipython3",
   "version": "3.12.8"
  }
 },
 "nbformat": 4,
 "nbformat_minor": 2
}
