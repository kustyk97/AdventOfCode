{
 "cells": [
  {
   "cell_type": "code",
   "execution_count": null,
   "metadata": {},
   "outputs": [
    {
     "ename": "",
     "evalue": "",
     "output_type": "error",
     "traceback": [
      "\u001b[1;31mFailed to start the Kernel. \n",
      "\u001b[1;31mImportError: /home/tomek/miniconda3/envs/main/lib/python3.12/lib-dynload/_sqlite3.cpython-312-x86_64-linux-gnu.so: undefined symbol: sqlite3_deserialize. \n",
      "\u001b[1;31mView Jupyter <a href='command:jupyter.viewOutput'>log</a> for further details."
     ]
    }
   ],
   "source": [
    "import re"
   ]
  },
  {
   "cell_type": "code",
   "execution_count": null,
   "metadata": {},
   "outputs": [],
   "source": [
    "#input_text = \"2333133121414131402\""
   ]
  },
  {
   "cell_type": "code",
   "execution_count": 129,
   "metadata": {},
   "outputs": [],
   "source": [
    "def get_files_block(size: int, value: int) -> str:\n",
    "    result =  \"\".join([str(value) for element in range(size)])\n",
    "    return result\n",
    "\n",
    "def get_free_block(size: int) -> str:\n",
    "    result = \"\".join([\".\" for element in range(size)])\n",
    "    return result"
   ]
  },
  {
   "cell_type": "code",
   "execution_count": 130,
   "metadata": {},
   "outputs": [],
   "source": [
    "def generate_disc(input_text: str) -> str:\n",
    "    disc = \"\"\n",
    "    id = 0\n",
    "    for i, value in enumerate(input_text):\n",
    "        if i % 2 == 0:\n",
    "            element = get_files_block(size=int(value), value=id)\n",
    "            disc = disc + element\n",
    "            id = id + 1\n",
    "        else:\n",
    "            element = get_free_block(size=int(value))\n",
    "            disc = disc + element\n",
    "    return disc"
   ]
  },
  {
   "cell_type": "code",
   "execution_count": 131,
   "metadata": {},
   "outputs": [],
   "source": [
    "def replace_two_elements(disc: str, id1: int, id2: int) -> str:\n",
    "\n",
    "    disc = [element for element in disc]\n",
    "    disc[id1] = disc[id2]\n",
    "    disc[id2] = \".\"\n",
    "    disc = \"\".join(disc)\n",
    "    return disc"
   ]
  },
  {
   "cell_type": "code",
   "execution_count": 132,
   "metadata": {},
   "outputs": [],
   "source": [
    "def move_file_blocks(disc: str) -> str:\n",
    "    while True:\n",
    "        result = re.search(r\"[.]\", disc)\n",
    "        result2 = re.search(r\"[0-9]\", disc[::-1])\n",
    "        last_num_id = len(disc) - result2.start() -1 \n",
    "        if last_num_id < result.start():\n",
    "            break\n",
    "        disc = replace_two_elements(disc, result.start(), last_num_id)\n",
    "    return disc"
   ]
  },
  {
   "cell_type": "code",
   "execution_count": 133,
   "metadata": {},
   "outputs": [],
   "source": [
    "def get_control_sum(text: str) -> int:\n",
    "    sum = 0\n",
    "    for id, element in enumerate(text):\n",
    "        try:\n",
    "            sum = sum + int(element)*id\n",
    "        except:\n",
    "            pass \n",
    "    return sum"
   ]
  },
  {
   "cell_type": "code",
   "execution_count": null,
   "metadata": {},
   "outputs": [],
   "source": [
    "input_text = input()\n",
    "disc = generate_disc(input_text=input_text)\n",
    "disc = move_file_blocks(disc=disc)\n",
    "result = get_control_sum(disc)\n",
    "print(result)"
   ]
  },
  {
   "cell_type": "code",
   "execution_count": null,
   "metadata": {},
   "outputs": [
    {
     "name": "stdout",
     "output_type": "stream",
     "text": [
      "1928\n"
     ]
    }
   ],
   "source": []
  },
  {
   "cell_type": "code",
   "execution_count": null,
   "metadata": {},
   "outputs": [],
   "source": []
  }
 ],
 "metadata": {
  "kernelspec": {
   "display_name": "main",
   "language": "python",
   "name": "python3"
  },
  "language_info": {
   "codemirror_mode": {
    "name": "ipython",
    "version": 3
   },
   "file_extension": ".py",
   "mimetype": "text/x-python",
   "name": "python",
   "nbconvert_exporter": "python",
   "pygments_lexer": "ipython3",
   "version": "3.12.7"
  }
 },
 "nbformat": 4,
 "nbformat_minor": 2
}
