{
 "cells": [
  {
   "cell_type": "code",
   "execution_count": 37,
   "metadata": {},
   "outputs": [],
   "source": [
    "import numpy as np\n",
    "path_to_input = \"input.txt\""
   ]
  },
  {
   "cell_type": "code",
   "execution_count": 38,
   "metadata": {},
   "outputs": [],
   "source": [
    "def load_input_data(path: str) -> np.array:\n",
    "    with open(path, \"r\") as file:\n",
    "        lines = file.readlines()\n",
    "    filtred_lines = []\n",
    "    for line in lines:\n",
    "        line = line.replace(\"\\n\", \"\")\n",
    "        filtred_lines.append(line)\n",
    "        \n",
    "    data = np.array([list(map(int, line)) for line in filtred_lines])\n",
    "    return data"
   ]
  },
  {
   "cell_type": "code",
   "execution_count": 39,
   "metadata": {},
   "outputs": [],
   "source": [
    "def get_zero_coords(map: np.array) -> list:\n",
    "    (x_coords, y_coords)= np.where(map == 0)\n",
    "    coords = [(x_coord, y_coord) for x_coord, y_coord in zip(x_coords, y_coords)]\n",
    "    return coords\n",
    "def is_coord_inside(map_size: list, coord: list) -> bool:\n",
    "    if coord[0] < 0 or coord[1] < 0 or coord[0] >= map_size[0] or coord[1] >= map_size[1]:\n",
    "        return False\n",
    "    return True"
   ]
  },
  {
   "cell_type": "code",
   "execution_count": 40,
   "metadata": {},
   "outputs": [],
   "source": [
    "def calculate_for_cell(map: np.array, coord: list, number: int, mask: np.array, flag: bool) -> int:\n",
    "    if is_coord_inside(map_size=map.shape, coord=coord) is False:\n",
    "        return 0, mask \n",
    "    try:\n",
    "        cell =  map[coord[0], coord[1]]\n",
    "        if cell  == number + 1:\n",
    "            if cell == 9:\n",
    "                if flag is True:\n",
    "                    if mask[coord[0], coord[1]] == False:\n",
    "                        mask[coord[0], coord[1]] = True\n",
    "                        return 1, mask\n",
    "                else:\n",
    "                    return 1, mask\n",
    "            else: \n",
    "                result, mask =  find_higher_value(map, coord, number + 1, mask, flag)\n",
    "                return result, mask\n",
    "    except:\n",
    "        pass\n",
    "    return 0, mask\n",
    "\n",
    "def find_higher_value(map: np.array, coord: list, number: int, mask: np.array, flag: bool) -> int:\n",
    "    results = 0\n",
    "    result, mask = calculate_for_cell(map, [coord[0]-1, coord[1]], number, mask, flag)\n",
    "    results +=result\n",
    "    result, mask = calculate_for_cell(map, [coord[0]+1, coord[1]], number, mask, flag)\n",
    "    results +=result\n",
    "    result, mask = calculate_for_cell(map, [coord[0], coord[1]-1], number, mask, flag)\n",
    "    results +=result\n",
    "    result, mask = calculate_for_cell(map, [coord[0], coord[1]+1], number, mask, flag)\n",
    "    results +=result\n",
    "    return results, mask\n"
   ]
  },
  {
   "cell_type": "code",
   "execution_count": 41,
   "metadata": {},
   "outputs": [],
   "source": [
    "def count_all_trailheads(map: np.array, coords: list, flag: bool) -> int:\n",
    "\n",
    "    score= 0\n",
    "    for coord in coords:\n",
    "        # calculate trailheads\n",
    "        number = 0\n",
    "        mask = np.zeros(map.shape, dtype=bool)\n",
    "        result, _ = find_higher_value(map, coord, number, mask, flag)\n",
    "        score += result\n",
    "    return score"
   ]
  },
  {
   "cell_type": "code",
   "execution_count": 42,
   "metadata": {},
   "outputs": [
    {
     "name": "stdout",
     "output_type": "stream",
     "text": [
      "Part one result: 841\n",
      "Part two result: 1875\n"
     ]
    }
   ],
   "source": [
    "data = load_input_data(path=path_to_input)\n",
    "coords = get_zero_coords(map=data)\n",
    "score = count_all_trailheads(map=data, coords=coords, flag=True)\n",
    "print(\"Part one result: \" + str(score))\n",
    "\n",
    "score = count_all_trailheads(map=data, coords=coords, flag=False)\n",
    "print(\"Part two result: \" + str(score))"
   ]
  }
 ],
 "metadata": {
  "kernelspec": {
   "display_name": "main",
   "language": "python",
   "name": "python3"
  },
  "language_info": {
   "codemirror_mode": {
    "name": "ipython",
    "version": 3
   },
   "file_extension": ".py",
   "mimetype": "text/x-python",
   "name": "python",
   "nbconvert_exporter": "python",
   "pygments_lexer": "ipython3",
   "version": "3.12.8"
  }
 },
 "nbformat": 4,
 "nbformat_minor": 2
}
