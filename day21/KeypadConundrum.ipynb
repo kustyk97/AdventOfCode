{
 "cells": [
  {
   "cell_type": "code",
   "execution_count": 19,
   "metadata": {},
   "outputs": [],
   "source": [
    "map = {\"0\": [3,1],\n",
    "\"1\":[2,0],\n",
    "\"2\":[2,1],\n",
    "\"3\":[2,2],\n",
    "\"4\":[1,0],\n",
    "\"5\":[1,1],\n",
    "\"6\":[1,2],\n",
    "\"7\":[0,0],\n",
    "\"8\":[0,1],\n",
    "\"9\":[0,2],\n",
    "\"A\":[3,2]\n",
    "}\n",
    "\n",
    "map2 = {\"<\": [0,1],\n",
    "\"^\":[1,0],\n",
    "\"v\":[1,1],\n",
    "\">\":[1,2],\n",
    "\"A\":[0,1]\n",
    "}"
   ]
  },
  {
   "cell_type": "code",
   "execution_count": 21,
   "metadata": {},
   "outputs": [],
   "source": [
    "def calculate (input_data: str) -> int:\n",
    "\n",
    "    coord = map[\"A\"]\n",
    "    results = \"\"\n",
    "    for element in input_data:\n",
    "        dx = map[element][1] - coord[1]\n",
    "        dy = map[element][0] - coord[0]\n",
    "        if dx >= 0: \n",
    "            dx = \"\".join([\">\" for i in range(dx)])\n",
    "        else:\n",
    "            dx = \"\".join([\"<\" for i in range(-dx)])\n",
    "        if dy >= 0: \n",
    "            dy = \"\".join([\"v\" for i in range(dy)])\n",
    "        else:\n",
    "            dy = \"\".join([\"^\" for i in range(-dy)])\n",
    "        results = results + dx + dy + \"A\"\n",
    "\n",
    "        coord = map[element]\n",
    "\n",
    "    coord = map2[\"A\"]\n",
    "    results2 = \"\"\n",
    "    for element in results:\n",
    "        dx = map2[element][1] - coord[1]\n",
    "        dy = map2[element][0] - coord[0]\n",
    "        if dx >= 0: \n",
    "            dx = \"\".join([\">\" for i in range(dx)])\n",
    "        else:\n",
    "            dx = \"\".join([\"<\" for i in range(-dx)])\n",
    "        if dy >= 0: \n",
    "            dy = \"\".join([\"v\" for i in range(dy)])\n",
    "        else:\n",
    "            dy = \"\".join([\"^\" for i in range(-dy)])\n",
    "        results2 = results2 + dx + dy + \"A\"\n",
    "\n",
    "        coord = map2[element]\n",
    "        \n",
    "    coord = map2[\"A\"]\n",
    "    results3 = \"\"\n",
    "    for element in results2:\n",
    "        dx = map2[element][1] - coord[1]\n",
    "        dy = map2[element][0] - coord[0]\n",
    "        if dx >= 0: \n",
    "            dx = \"\".join([\">\" for i in range(dx)])\n",
    "        else:\n",
    "            dx = \"\".join([\"<\" for i in range(-dx)])\n",
    "        if dy >= 0: \n",
    "            dy = \"\".join([\"v\" for i in range(dy)])\n",
    "        else:\n",
    "            dy = \"\".join([\"^\" for i in range(-dy)])\n",
    "        results3 = results3 + dx + dy + \"A\"\n",
    "\n",
    "        coord = map2[element]\n",
    "    print(f\"Len {len(results3)}, value: {input_data[:-1]}\")\n",
    "    return int(input_data[:-1])*len(results3)"
   ]
  },
  {
   "cell_type": "code",
   "execution_count": 12,
   "metadata": {},
   "outputs": [],
   "source": [
    "with open(\"input.txt\", \"r\") as file:\n",
    "    raw_data = file.readlines()\n",
    "\n",
    "data = []\n",
    "for element in raw_data:\n",
    "    data.append(element[:-1])"
   ]
  },
  {
   "cell_type": "code",
   "execution_count": 22,
   "metadata": {},
   "outputs": [],
   "source": [
    "data = [\"029A\",\n",
    "\"980A\",\n",
    "\"179A\",\n",
    "\"456A\",\n",
    "\"379A\"]"
   ]
  },
  {
   "cell_type": "code",
   "execution_count": 23,
   "metadata": {},
   "outputs": [
    {
     "data": {
      "text/plain": [
       "['029A', '980A', '179A', '456A', '379A']"
      ]
     },
     "execution_count": 23,
     "metadata": {},
     "output_type": "execute_result"
    }
   ],
   "source": [
    "data"
   ]
  },
  {
   "cell_type": "code",
   "execution_count": 24,
   "metadata": {},
   "outputs": [
    {
     "name": "stdout",
     "output_type": "stream",
     "text": [
      "Len 48, value: 029\n",
      "Len 44, value: 980\n",
      "Len 58, value: 179\n",
      "Len 56, value: 456\n",
      "Len 58, value: 379\n"
     ]
    }
   ],
   "source": [
    "\n",
    "\n",
    "result = 0\n",
    "for element in data:\n",
    "    result += calculate(element)"
   ]
  },
  {
   "cell_type": "code",
   "execution_count": 25,
   "metadata": {},
   "outputs": [
    {
     "data": {
      "text/plain": [
       "102412"
      ]
     },
     "execution_count": 25,
     "metadata": {},
     "output_type": "execute_result"
    }
   ],
   "source": [
    "result"
   ]
  },
  {
   "cell_type": "code",
   "execution_count": null,
   "metadata": {},
   "outputs": [],
   "source": []
  }
 ],
 "metadata": {
  "kernelspec": {
   "display_name": "main",
   "language": "python",
   "name": "python3"
  },
  "language_info": {
   "codemirror_mode": {
    "name": "ipython",
    "version": 3
   },
   "file_extension": ".py",
   "mimetype": "text/x-python",
   "name": "python",
   "nbconvert_exporter": "python",
   "pygments_lexer": "ipython3",
   "version": "3.12.8"
  }
 },
 "nbformat": 4,
 "nbformat_minor": 2
}
